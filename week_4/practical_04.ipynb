{
 "cells": [
  {
   "cell_type": "code",
   "execution_count": 1,
   "metadata": {},
   "outputs": [
    {
     "name": "stdout",
     "output_type": "stream",
     "text": [
      "49.0\n"
     ]
    }
   ],
   "source": [
    "# TASK: Write some code that imports the math module,\n",
    "# then calculates and prints the square root of the number 2401. Use the sqrt() function provided by the math module.\n",
    "# Individual functions can also be imported from a module. \n",
    "# For example, we could import the sqrt() function only using the following code:\n",
    "\n",
    "from math import sqrt\n",
    "print(sqrt(2401))\n"
   ]
  },
  {
   "cell_type": "code",
   "execution_count": 2,
   "metadata": {},
   "outputs": [
    {
     "name": "stdout",
     "output_type": "stream",
     "text": [
      "10.0\n"
     ]
    }
   ],
   "source": [
    "# TASK: Write some code that imports only the log2() function from the math module,\n",
    "# then call this function to calculate the log base 2 value of 1024. Print the result to the screen.\n",
    "\n",
    "from math import log2\n",
    "print(log2(1024))"
   ]
  },
  {
   "cell_type": "code",
   "execution_count": 12,
   "metadata": {},
   "outputs": [
    {
     "name": "stdout",
     "output_type": "stream",
     "text": [
      "True\n",
      "True\n",
      "Hello roshan ji\n",
      "Hello roshan ji\n"
     ]
    }
   ],
   "source": [
    "#  Input the above function definition. Once that is done make several calls to the function passing \n",
    "# different argument values for testing.\n",
    "\n",
    "def displayTwice(msg):\n",
    "    print(msg)\n",
    "    print(msg)\n",
    " \n",
    " \n",
    " \n",
    "displayTwice(True)\n",
    "displayTwice(\"Hello roshan ji\")"
   ]
  },
  {
   "cell_type": "code",
   "execution_count": 13,
   "metadata": {},
   "outputs": [
    {
     "name": "stdout",
     "output_type": "stream",
     "text": [
      "Help on function displayTwice in module __main__:\n",
      "\n",
      "displayTwice()\n",
      "    In this program \n",
      "    we made help\n",
      "       function to call twise\n",
      "\n"
     ]
    }
   ],
   "source": [
    "# TASK: Re-Input the above function definition, but this time add a docstring that includes a description of the -\n",
    "# function’s purpose. \n",
    "# Once that is done enter a command such as help(displayTwice) and see what it displays.\n",
    "def displayTwice():\n",
    " \"\"\" In this program \n",
    "  we made help\n",
    "     function to call twise\"\"\"\n",
    "    \n",
    "help(displayTwice)"
   ]
  },
  {
   "cell_type": "code",
   "execution_count": 14,
   "metadata": {},
   "outputs": [
    {
     "name": "stdout",
     "output_type": "stream",
     "text": [
      "4\n"
     ]
    }
   ],
   "source": [
    "# Input the above function definition. Once that is done make -\n",
    "# several calls to the function passing different argument values and displaying the returned value.\n",
    "\n",
    "\n",
    "def findMax(a,b):\n",
    " \"\"\"Finds the maximum of two values.\"\"\"\n",
    " if ( a > b ):\n",
    "   return a\n",
    " else:\n",
    "    return b\n",
    "print(findMax(3,4))\n",
    "\n",
    "    "
   ]
  },
  {
   "cell_type": "code",
   "execution_count": 15,
   "metadata": {},
   "outputs": [
    {
     "name": "stdout",
     "output_type": "stream",
     "text": [
      "9\n",
      "15\n"
     ]
    }
   ],
   "source": [
    "# TASK: Define a function that takes two numeric values, multiplies them together then returns the result.\n",
    "# If the function is called with only a single argument however, then the value should be multiplied by itself.\n",
    "# Once the function is defined, call it several times and display the returned values for testing purposes.\n",
    "\n",
    "def multiplied(a,b=None):\n",
    "    if b is not None:\n",
    "      return a * b\n",
    "    else:\n",
    "      result = a*a\n",
    "      return result\n",
    "print(multiplied(3))\n",
    "print(multiplied(3,5))"
   ]
  },
  {
   "cell_type": "code",
   "execution_count": 16,
   "metadata": {},
   "outputs": [
    {
     "name": "stdout",
     "output_type": "stream",
     "text": [
      "a is 1 \n",
      "b is 2 \n",
      "c is 3\n"
     ]
    }
   ],
   "source": [
    "# Enter the example function shown above, then try calling it using the keyword arguments in several different orders.\n",
    "def someFunc(a, b, c):\n",
    "    print(\"a is\", a, \"\\nb is\", b, \"\\nc is\", c)\n",
    "someFunc(a=1, b=2, c=3)\n",
    "\n"
   ]
  },
  {
   "cell_type": "code",
   "execution_count": 17,
   "metadata": {},
   "outputs": [
    {
     "name": "stdout",
     "output_type": "stream",
     "text": [
      "Ini-mini-mango\n",
      "inki, minki, ponki\n",
      "Day | mid day | Night\n"
     ]
    }
   ],
   "source": [
    "# The built-in print() function supports a keyword argument called sep. \n",
    "# This is used to decide what character to display between each of the provided positional parameters.\n",
    "# Write some code that makes several calls to the print() function while setting the sep argument to values other\n",
    "# than a space (which is the default).\n",
    "\n",
    "\n",
    "print(\"Ini\", \"mini\", \"mango\", sep='-')\n",
    "print(\"inki\", \"minki\", \"ponki\", sep=', ')\n",
    "print(\"Day\", \"mid day\", \"Night\", sep=' | ')\n"
   ]
  },
  {
   "cell_type": "code",
   "execution_count": 18,
   "metadata": {},
   "outputs": [
    {
     "name": "stdout",
     "output_type": "stream",
     "text": [
      "Result_1: 3.0\n",
      "Result_2: 28.0\n"
     ]
    }
   ],
   "source": [
    "# TASK: Enter the example function shown above, then try calling it several times, \n",
    "# passing a different number of numeric arguments each time\n",
    "\n",
    "def calcAve(*numbers):\n",
    "    total = 0\n",
    "    for num in numbers:\n",
    "        total += num\n",
    "    return total / len(numbers)\n",
    "\n",
    "\n",
    "result_1 = calcAve(1, 2, 3, 4, 5)\n",
    "result_2 = calcAve(34, 20, 30)\n",
    "\n",
    "print(\"Result_1:\", result_1)\n",
    "print(\"Result_2:\", result_2)\n",
    "\n"
   ]
  },
  {
   "cell_type": "code",
   "execution_count": 19,
   "metadata": {},
   "outputs": [
    {
     "name": "stdout",
     "output_type": "stream",
     "text": [
      "<class 'function'>\n"
     ]
    }
   ],
   "source": [
    "import math\n",
    "hypot = lambda a,b : math.sqrt(a * a + b * b)\n",
    "hypot(3,4)\n",
    "print(type(hypot))"
   ]
  },
  {
   "cell_type": "code",
   "execution_count": 20,
   "metadata": {},
   "outputs": [
    {
     "name": "stdout",
     "output_type": "stream",
     "text": [
      "Result_1: 120\n",
      "Result_2: 7200\n",
      "Result_3: 5400\n"
     ]
    }
   ],
   "source": [
    "# TASK: Write a lambda expression that takes two formal parameters, hours and minutes. \n",
    "# The expression should calculate and return the total number of equivalent seconds. \n",
    "# Assign the expression to a variable called to_seconds, then call the function several times for testing.\n",
    "\n",
    "to_seconds = lambda hours, minutes: hours * 3600 + minutes * 60\n",
    "result1 = to_seconds(0, 2)\n",
    "result2 = to_seconds(2, 0)\n",
    "result3 = to_seconds(1, 30)\n",
    "\n",
    "print(\"Result_1:\", result1)\n",
    "print(\"Result_2:\", result2)\n",
    "print(\"Result_3:\", result3)\n"
   ]
  },
  {
   "cell_type": "code",
   "execution_count": 21,
   "metadata": {},
   "outputs": [
    {
     "name": "stdout",
     "output_type": "stream",
     "text": [
      "Result_1: 3600\n",
      "Result_2: 7200\n"
     ]
    }
   ],
   "source": [
    "# Improve your previous lambda expression so that if only one argument is passed within a call, \n",
    "# then the number of minutes defaults to 0, as detailed below:\n",
    "to_seconds = lambda hours, minutes=0: hours * 3600 + minutes * 60\n",
    "\n",
    "result1 = to_seconds(1)\n",
    "result2 = to_seconds(2)\n",
    "\n",
    "print(\"Result_1:\", result1)\n",
    "print(\"Result_2:\", result2)\n"
   ]
  }
 ],
 "metadata": {
  "kernelspec": {
   "display_name": "Python 3",
   "language": "python",
   "name": "python3"
  },
  "language_info": {
   "codemirror_mode": {
    "name": "ipython",
    "version": 3
   },
   "file_extension": ".py",
   "mimetype": "text/x-python",
   "name": "python",
   "nbconvert_exporter": "python",
   "pygments_lexer": "ipython3",
   "version": "3.11.5"
  }
 },
 "nbformat": 4,
 "nbformat_minor": 2
}

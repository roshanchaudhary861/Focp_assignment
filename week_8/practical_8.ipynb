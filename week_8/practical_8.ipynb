{
 "cells": [
  {
   "cell_type": "code",
   "execution_count": null,
   "metadata": {},
   "outputs": [],
   "source": [
    "# TASK: Rewrite your earlier code that displayed the area of a rectangle, but include a format specifier that limits the displayed result to three decimal places.\n",
    "width = 104.32\n",
    "height = 15.654\n",
    "area = width * height\n",
    "print(f\"The area of a rectangle with a width of {width} and a height of {height} is {area:.3f}.\")\n"
   ]
  },
  {
   "cell_type": "code",
   "execution_count": null,
   "metadata": {},
   "outputs": [],
   "source": [
    "# TASK: Try setting the name and age variables to different values and executing the above print() statement multiple times. Notice the alignment and column width enforced due to the print specifier.\n",
    "# First execution\n",
    "name = \"roshan\"\n",
    "age = 21\n",
    "print(f\"{name:15} - {age:10}\")\n",
    "\n",
    "# Second execution with different values\n",
    "name = \"rabi\"\n",
    "age = 25\n",
    "print(f\"{name:15} - {age:10}\")\n",
    "\n"
   ]
  },
  {
   "cell_type": "code",
   "execution_count": null,
   "metadata": {},
   "outputs": [],
   "source": [
    "# TASK: Write a print() statement that displays the name and age values, with a column width of 20 for each, both right aligned, and with the age being shown to two decimal places. The fill character should be a dollar symbol $.\n",
    "print(f\"{name:>20} - ${age:.2f}\")"
   ]
  },
  {
   "cell_type": "code",
   "execution_count": null,
   "metadata": {},
   "outputs": [],
   "source": [
    "# TASK: Write some code that uses the str.format() method to display the area of a circle with a radius specified by the variable r. Use a keyword replacement field called area to identify the calculated area and refer to this when passing the value to the str.format() method. The output should look like the following, in the case where r is set to 52.\n",
    "import math\n",
    "r = 52\n",
    "area = math.pi * r**2\n",
    "print(\"A circle with radius {} has an area of {:.10f}\".format(r, area))\n"
   ]
  },
  {
   "cell_type": "code",
   "execution_count": null,
   "metadata": {},
   "outputs": [],
   "source": [
    "# TASK: Convert the f-string based statement below into an equivalent that uses the str.format() method to generate the same output.\n",
    "name = \"roshan \"\n",
    "age = 21\n",
    "print(\"{name:@^15} - {age:#^10}\".format(name=name, age=age))\n"
   ]
  },
  {
   "cell_type": "code",
   "execution_count": null,
   "metadata": {},
   "outputs": [],
   "source": [
    "# TASK: Use a text editor to create a file called info.txt and enter the text shown below. Once the file has been created and saved, write a small program that:\n",
    "# 1.\tOpens the file,\n",
    "# 2.\treads and prints the contents,\n",
    "# 3.\tcloses the file.\n",
    "\n",
    "f= open(\"info.txt\")\n",
    "file_contents = f.read()\n",
    "print(file_contents)\n",
    "f.close()\n"
   ]
  },
  {
   "cell_type": "code",
   "execution_count": null,
   "metadata": {},
   "outputs": [],
   "source": [
    "# TASK: write a small program that opens the info.txt file, then reads and displays each of the three lines of text using calls to the readline() method. Remember to close the file once the content has been read.\n",
    "f = open(\"info.txt\")\n",
    "line1 = f.readlines()\n",
    "line2 = f.readline()\n",
    "line3 = f.readline()\n",
    "print(line1)\n",
    "print(line2)\n",
    "print(line3)\n",
    "f.close()"
   ]
  },
  {
   "cell_type": "code",
   "execution_count": null,
   "metadata": {},
   "outputs": [],
   "source": [
    "# TASK: write a small program that opens the info.txt file, then reads and displays each line of text using a for...in loop. Remember to close the file once the content has been read.\n",
    "f = open(\"info.txt\", \"r\")\n",
    "for line in f:\n",
    "    print(line)\n",
    "f.close()\n"
   ]
  },
  {
   "cell_type": "code",
   "execution_count": null,
   "metadata": {},
   "outputs": [],
   "source": [
    "# TASK: Write a small program that opens the \"info.txt\" file in append (a) mode. Use the write() method to add an extra line of text saying \"this is an extra line\". \n",
    "with open(\"info.txt\", \"a\") as file:  # Open the file in append mode\n",
    "    file.write(\"This is an extra line\\n\")  # Write an extra line of text\n"
   ]
  },
  {
   "cell_type": "code",
   "execution_count": null,
   "metadata": {},
   "outputs": [],
   "source": [
    "# TASK: write a small program that opens the info.txt file, then reads and displays each line of text using a for...in loop. Rather than explicitly call the close() method, use the ‘with’ statement to wrap the file handling code.\n",
    "# Open the file in read mode using the 'with' statement\n",
    "with open(\"info.txt\", \"r\") as file:\n",
    "    for line in file:\n",
    "        print(line.strip())  \n"
   ]
  }
 ],
 "metadata": {
  "language_info": {
   "name": "python"
  }
 },
 "nbformat": 4,
 "nbformat_minor": 2
}
